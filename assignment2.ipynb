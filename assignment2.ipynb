{
 "cells": [
  {
   "cell_type": "code",
   "execution_count": 3,
   "id": "a4e16fa2-0b0c-4ff6-a967-b3de650159bb",
   "metadata": {},
   "outputs": [
    {
     "name": "stdin",
     "output_type": "stream",
     "text": [
      "Enter your age:  18\n"
     ]
    },
    {
     "name": "stdout",
     "output_type": "stream",
     "text": [
      "You are a teenager.\n"
     ]
    }
   ],
   "source": [
    "# Question One.\n",
    "age = int(input(\"Enter your age: \"))\n",
    "if (age >= 0 and age < 12):\n",
    "    print(\"You are a child.\")\n",
    "elif (age >= 13 and age < 19):\n",
    "    print(\"You are a teenager.\")\n",
    "elif (age >= 20 and age < 64):\n",
    "    print(\"You are an adult.\")\n",
    "elif (age >= 65):\n",
    "    print(\"You are a senior.\")"
   ]
  },
  {
   "cell_type": "code",
   "execution_count": 27,
   "id": "13025d5d-827d-45c7-a78d-957fdb46b3f4",
   "metadata": {},
   "outputs": [
    {
     "name": "stdin",
     "output_type": "stream",
     "text": [
      "Enter your membership status (premium/regular):  premium\n",
      "Enter your purchase amount:  2000\n"
     ]
    },
    {
     "name": "stdout",
     "output_type": "stream",
     "text": [
      "You are eligible for discount.\n"
     ]
    }
   ],
   "source": [
    "# Question 2\n",
    "membershipStatus = input(\"Enter your membership status (premium/regular): \")\n",
    "purchaseAmnt = int(input(\"Enter your purchase amount: \"))\n",
    "if (membershipStatus.lower() == \"premium\" and purchaseAmnt >= 1000):\n",
    "    print(\"You are eligible for discount.\")\n",
    "elif (membershipStatus.lower() == \"regualar\" and purchaseAmnt >= 2000):\n",
    "    print(\"You are eligible for discount.\")\n",
    "else: \n",
    "    print(\"You are not eligible for discount.\")"
   ]
  },
  {
   "cell_type": "code",
   "execution_count": 31,
   "id": "f51aa170-d6b7-4727-8a6b-cb5d7377b912",
   "metadata": {},
   "outputs": [
    {
     "name": "stdin",
     "output_type": "stream",
     "text": [
      "Enter your age:  16\n",
      "Enter your citizenship status (non-citizen/citizen):  citizen\n",
      "Does your region allow voting for people 16 years old? (Yes/No):  Yes\n"
     ]
    },
    {
     "name": "stdout",
     "output_type": "stream",
     "text": [
      "You are eligible to vote.\n"
     ]
    }
   ],
   "source": [
    "# Question 3\n",
    "age = int(input(\"Enter your age: \"))\n",
    "citizenshipStatus = input(\"Enter your citizenship status (non-citizen/citizen): \")\n",
    "specialRegion = input(\"Does your region allow voting for people 16 years old? (Yes/No): \")\n",
    "if (age >= 18 and citizenshipStatus == \"citizen\") or (age >= 16 and specialRegion == \"Yes\" and citizenshipStatus == \"citizen\"):\n",
    "    print(\"You are eligible to vote.\")\n",
    "else: \n",
    "    print(\"You are not eligible to vote.\")"
   ]
  },
  {
   "cell_type": "code",
   "execution_count": 65,
   "id": "be0a9bed-60a7-4f87-ab03-4f91a3b9fca6",
   "metadata": {},
   "outputs": [
    {
     "name": "stdin",
     "output_type": "stream",
     "text": [
      "Enter performance rating (Excellent/Good/Satisfactory):  abc\n",
      "Enter years of service:  19\n"
     ]
    },
    {
     "name": "stdout",
     "output_type": "stream",
     "text": [
      "Eligible for salary bonus\n"
     ]
    }
   ],
   "source": [
    "# Question 4\n",
    "performanceRating = input(\"Enter performance rating (Excellent/Good/Satisfactory): \")\n",
    "yearsOfService = int(input(\"Enter years of service: \"))\n",
    "if (performanceRating == \"Excellent\" and yearsOfService >= 5) or (performanceRating == \"Good\" and yearsOfService >= 10) or (performanceRating == \"Satisfactory\" or yearsOfService >= 15):\n",
    "    print(\"Eligible for salary bonus\")\n",
    "else:\n",
    "    print(\"Not eligible for salary bonus\")"
   ]
  },
  {
   "cell_type": "code",
   "execution_count": null,
   "id": "0364b974-19cd-4b10-a0e9-80d8d0bd7fc8",
   "metadata": {},
   "outputs": [],
   "source": [
    "# Question 5\n",
    "text = \"I'm learning Python programming\"\n",
    "new_text = text.replace(\" \", \"_\")\n",
    "counter = modified_text.count(\"_\")\n",
    "first_underscore_position = new_text.find(\"_\")\n",
    "print(\"New Text:\", new_text)\n",
    "print(\"Number of underscores:\", counter)\n",
    "print(\"Position of the first underscore:\", first_underscore_position)"
   ]
  },
  {
   "cell_type": "code",
   "execution_count": 5,
   "id": "db874cd7-f439-4c6d-9523-4f1f6963463a",
   "metadata": {},
   "outputs": [
    {
     "name": "stdin",
     "output_type": "stream",
     "text": [
      "Enter a string:  Python\n"
     ]
    },
    {
     "name": "stdout",
     "output_type": "stream",
     "text": [
      "String without the last 3 characters: Pyt\n",
      "Every second character of the string: Pto\n",
      "String in reverse: nohtyP\n"
     ]
    }
   ],
   "source": [
    "# Question 6\n",
    "string = input(\"Enter a string: \")\n",
    "print(\"String without the last 3 characters:\", string[:-3])\n",
    "print(\"Every second character of the string:\", string[::2])\n",
    "print(\"String in reverse:\", string[::-1])"
   ]
  },
  {
   "cell_type": "code",
   "execution_count": 69,
   "id": "ed60088b-4484-4064-adf5-e5a0f819c76a",
   "metadata": {},
   "outputs": [
    {
     "name": "stdout",
     "output_type": "stream",
     "text": [
      "Reversed sentence: Python. learning are We World, Hello\n"
     ]
    }
   ],
   "source": [
    "# Question 7\n",
    "sentence = \"Hello World, We are learning Python\"\n",
    "words = sentence.split()\n",
    "reversedWords = words[::-1]\n",
    "reversedSentence = \" \".join(reversedWords)\n",
    "print(\"Reversed sentence:\", reversedSentence)"
   ]
  },
  {
   "cell_type": "code",
   "execution_count": 77,
   "id": "f391e220-2697-40c2-8b0b-e9fe6a806a80",
   "metadata": {},
   "outputs": [
    {
     "name": "stdout",
     "output_type": "stream",
     "text": [
      "Extracted number: 12345\n"
     ]
    }
   ],
   "source": [
    "# Question 8\n",
    "productCode = \"SKU-12345-XYZ\"\n",
    "startIndex = productCode.find('-') + 1\n",
    "endIndex = productCode.rfind('-')\n",
    "num = productCode[startIndex:endIndex]\n",
    "print(\"Extracted number:\", num)"
   ]
  },
  {
   "cell_type": "code",
   "execution_count": null,
   "id": "2768f27a-a46f-40a7-bc9d-f44b4c9a6f60",
   "metadata": {},
   "outputs": [],
   "source": [
    "# Question 9"
   ]
  },
  {
   "cell_type": "code",
   "execution_count": 7,
   "id": "625f1014-6c52-47df-9b85-95f2ff68fc6f",
   "metadata": {},
   "outputs": [
    {
     "name": "stdin",
     "output_type": "stream",
     "text": [
      "Enter your string/sentence:  This is Python.\n"
     ]
    },
    {
     "name": "stdout",
     "output_type": "stream",
     "text": [
      "Python.\n"
     ]
    }
   ],
   "source": [
    "# Question 10\n",
    "stringUser = input(\"Enter your string/sentence: \")\n",
    "words = stringUser.split()  \n",
    "longestWord = max(words, key=len)\n",
    "print(longestWord)"
   ]
  }
 ],
 "metadata": {
  "kernelspec": {
   "display_name": "Python [conda env:base] *",
   "language": "python",
   "name": "conda-base-py"
  },
  "language_info": {
   "codemirror_mode": {
    "name": "ipython",
    "version": 3
   },
   "file_extension": ".py",
   "mimetype": "text/x-python",
   "name": "python",
   "nbconvert_exporter": "python",
   "pygments_lexer": "ipython3",
   "version": "3.12.7"
  }
 },
 "nbformat": 4,
 "nbformat_minor": 5
}
